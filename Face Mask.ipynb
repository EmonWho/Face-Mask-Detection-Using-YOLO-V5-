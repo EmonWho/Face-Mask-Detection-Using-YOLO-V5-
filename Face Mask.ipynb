{
  "nbformat": 4,
  "nbformat_minor": 0,
  "metadata": {
    "colab": {
      "name": "Final_Project_465.ipynb",
      "provenance": [],
      "collapsed_sections": [],
      "private_outputs": true
    },
    "kernelspec": {
      "name": "python3",
      "display_name": "Python 3"
    },
    "language_info": {
      "name": "python"
    },
    "accelerator": "GPU"
  },
  "cells": [
    {
      "cell_type": "code",
      "execution_count": null,
      "metadata": {
        "id": "KJr835w1Gis9"
      },
      "outputs": [],
      "source": [
        "from google.colab import drive\n",
        "drive.mount('/content/drive')"
      ]
    },
    {
      "cell_type": "code",
      "source": [
        "import imageio\n",
        "import os\n",
        "import imgaug as ia\n",
        "import imgaug.augmenters as iaa\n",
        "from imgaug.augmentables.bbs import BoundingBox, BoundingBoxesOnImage\n",
        "\n",
        "imageLocation = '/content/drive/MyDrive/New Dataset/Data/train/pics/'\n",
        "imageDestination = '/content/drive/MyDrive/New Dataset/Destination/Train/images/'\n",
        "textLocation = '/content/drive/MyDrive/New Dataset/Data/train/labels/'\n",
        "textDestination = '/content/drive/MyDrive/New Dataset/Destination/Train/labels/'\n",
        "\n",
        "\n",
        "for i in range(700):\n",
        "  newLocation = imageLocation + str(i) + '.jpg'\n",
        "  newDestination = imageDestination + str(i) + '_Horizontal.jpg'\n",
        "  image = imageio.imread(newLocation)\n",
        "  flip_hr=iaa.Fliplr(p=1.0)\n",
        "  flip_hr_image= flip_hr.augment_image(image)\n",
        "  imageio.imwrite(newDestination,flip_hr_image)\n",
        "  image1 = imageio.imread(newDestination)\n",
        "  newTextLocation = textLocation + str(i) + '.txt'\n",
        "  textLabel = textDestination + str(i) + '_Horizontal.txt'\n",
        "   \n",
        "  # This Part Counts Number of Annotations in a Single txt\n",
        "  f = open(newTextLocation, \"r\")\n",
        "  line_count = 0 \n",
        "  for line in f:\n",
        "    if line != \"\\n\":\n",
        "        line_count += 1\n",
        "\n",
        "  print(\"Total Line:\",line_count) \n",
        "  f.close() # Annotation Count Ends\n",
        "\n",
        "  f = open(newTextLocation, \"r\")\n",
        "\n",
        "\n",
        "  while line_count > 0:\n",
        "    values = f.readline()\n",
        "    splitted = values.split()\n",
        "    mask = int(splitted[0])\n",
        "    xMin = float(splitted[1])\n",
        "    yMin = float(splitted[2])\n",
        "    xMax = float(splitted[3])\n",
        "    yMax = float(splitted[4])\n",
        "    bbs = BoundingBoxesOnImage([\n",
        "    BoundingBox(x1=xMin, x2=xMax, y1=yMin, y2=yMax)\n",
        "    ], shape=image.shape)\n",
        "    image_aug, bbs_aug = flip_hr(image=image, bounding_boxes=bbs)\n",
        "    #ia.imshow(bbs_aug.draw_on_image(image_aug, size=2))\n",
        "\n",
        "    for i in range(len(bbs.bounding_boxes)):\n",
        "      before = bbs.bounding_boxes[i]\n",
        "      after = bbs_aug.bounding_boxes[i]\n",
        "    \n",
        "      print(\"BB %d: (%f, %f, %f, %f) -> (%f, %f, %f, %f)\" % (\n",
        "          i,\n",
        "          before.x1, before.y1, before.x2, before.y2,\n",
        "          after.x1, after.y1, after.x2, after.y2)\n",
        "      )\n",
        "    line_count -= 1\n",
        "    newMask = str(mask)\n",
        "    newXmin = str(after.x1)\n",
        "    newYmin = str(after.y1)\n",
        "    newXmax = str(after.x2)\n",
        "    newYmax = str(after.y2)\n",
        "    0\n",
        "    print(\"Augmented Value: \" +newMask+\" \"+newXmin+ \" \" +newYmin+ \" \" +newXmax+ \" \" +newYmax)\n",
        "    \n",
        "    if os.path.isfile(textLabel):\n",
        "          #print('multiple file: '+label)\n",
        "          with open(textLabel, 'a') as fd:\n",
        "              fd.write(f'\\n{newMask+\" \"+newXmin+ \" \" +newYmin+ \" \" +newXmax+ \" \" +newYmax}')\n",
        "              \n",
        "    else:\n",
        "          with open(textLabel, 'x') as fd1:\n",
        "              fd1.write(newMask+\" \"+newXmin+ \" \" +newYmin+ \" \" +newXmax+ \" \" +newYmax)\n",
        "              \n",
        "         \n",
        "    \n",
        "    \n",
        "  f.close()"
      ],
      "metadata": {
        "id": "yg8bD13gCyWs"
      },
      "execution_count": null,
      "outputs": []
    },
    {
      "cell_type": "code",
      "source": [
        "import os\n",
        "import imageio\n",
        "import imgaug as ia\n",
        "import imgaug.augmenters as iaa\n",
        "from imgaug.augmentables.bbs import BoundingBox, BoundingBoxesOnImage\n",
        "\n",
        "imageLocation = '/content/drive/MyDrive/New Dataset/Data/valid/pics/'\n",
        "imageDestination = '/content/drive/MyDrive/New Dataset/Destination/Valid/images/'\n",
        "textLocation = '/content/drive/MyDrive/New Dataset/Data/valid/labels/'\n",
        "textDestination = '/content/drive/MyDrive/New Dataset/Destination/Valid/labels/'\n",
        "\n",
        "\n",
        "for i in range(100):\n",
        "  newLocation = imageLocation + str(i) + '.jpg'\n",
        "  newDestination = imageDestination + str(i) + '_Horizontal.jpg'\n",
        "  image = imageio.imread(newLocation)\n",
        "  flip_hr=iaa.Fliplr(p=1.0)\n",
        "  flip_hr_image= flip_hr.augment_image(image)\n",
        "  imageio.imwrite(newDestination,flip_hr_image)\n",
        "  image1 = imageio.imread(newDestination)\n",
        "  newTextLocation = textLocation + str(i) + '.txt'\n",
        "  textLabel = textDestination + str(i) + '_Horizontal.txt'\n",
        "   \n",
        "  # This Part Counts Number of Annotations in a Single txt\n",
        "  f = open(newTextLocation, \"r\")\n",
        "  line_count = 0 \n",
        "  for line in f:\n",
        "    if line != \"\\n\":\n",
        "        line_count += 1\n",
        "\n",
        "  print(\"Total Line:\",line_count) \n",
        "  f.close() # Annotation Count Ends\n",
        "\n",
        "  f = open(newTextLocation, \"r\")\n",
        "  (hI, wI) = image.shape[:2]\n",
        "\n",
        "  while line_count > 0:\n",
        "    values = f.readline()\n",
        "    splitted = values.split()\n",
        "    mask = int(splitted[0])\n",
        "    x  = int(float(splitted[1])*wI - float(splitted[3])*wI/2)\n",
        "    y = int(float(splitted[2])*hI - float(splitted[4])*hI/2)\n",
        "    h = int(float(splitted[4])*hI)\n",
        "    w = int(float(splitted[3])*wI)\n",
        "    bbs = BoundingBoxesOnImage([\n",
        "    BoundingBox(x1=x, x2=h, y1=y, y2=w)\n",
        "    ], shape=image.shape)\n",
        "    image_aug, bbs_aug = flip_hr(image=image, bounding_boxes=bbs)\n",
        "    #ia.imshow(bbs_aug.draw_on_image(image_aug, size=2))\n",
        "\n",
        "    for i in range(len(bbs.bounding_boxes)):\n",
        "      before = bbs.bounding_boxes[i]\n",
        "      after = bbs_aug.bounding_boxes[i]\n",
        "    \n",
        "      print(\"BB %d: (%f, %f, %f, %f) -> (%f, %f, %f, %f)\" % (\n",
        "          i,\n",
        "          before.x1, before.y1, before.x2, before.y2,\n",
        "          after.x1, after.y1, after.x2, after.y2)\n",
        "      )\n",
        "    line_count -= 1\n",
        "    newMask = str(mask)\n",
        "    newXmin = str(after.x1)\n",
        "    newYmin = str(after.y1)\n",
        "    newXmax = str(after.x2)\n",
        "    newYmax = str(after.y2)\n",
        "    print(\"Augmented Value: \" +newMask+\" \"+newXmin+ \" \" +newYmin+ \" \" +newXmax+ \" \" +newYmax)\n",
        "    \n",
        "    if os.path.isfile(textLabel):\n",
        "          #print('multiple file: '+label)\n",
        "          with open(textLabel, 'a') as fd:\n",
        "              fd.write(f'\\n{newMask+\" \"+newXmin+ \" \" +newYmin+ \" \" +newXmax+ \" \" +newYmax}')\n",
        "              \n",
        "    else:\n",
        "          with open(textLabel, 'x') as fd1:\n",
        "              fd1.write(newMask+\" \"+newXmin+ \" \" +newYmin+ \" \" +newXmax+ \" \" +newYmax)\n",
        "              \n",
        "         \n",
        "    \n",
        "    \n",
        "  f.close()"
      ],
      "metadata": {
        "id": "_Ge4PK9ppBmM"
      },
      "execution_count": null,
      "outputs": []
    },
    {
      "cell_type": "code",
      "source": [
        "import tensorflow as tf"
      ],
      "metadata": {
        "id": "4BgS3f275b8u"
      },
      "execution_count": null,
      "outputs": []
    },
    {
      "cell_type": "code",
      "source": [
        "import numpy as np"
      ],
      "metadata": {
        "id": "U8GwMpeix7jV"
      },
      "execution_count": null,
      "outputs": []
    },
    {
      "cell_type": "code",
      "source": [
        "import tensorflow as tf"
      ],
      "metadata": {
        "id": "VvjgXcoHx7mM"
      },
      "execution_count": null,
      "outputs": []
    },
    {
      "cell_type": "code",
      "source": [
        "!/usr/local/cuda/bin/nvcc --version\n",
        "\n",
        "!nvidia-smi"
      ],
      "metadata": {
        "id": "3VAnqGrw6kKo"
      },
      "execution_count": null,
      "outputs": []
    },
    {
      "cell_type": "code",
      "source": [
        "import numpy as np\n",
        "import pandas as pd\n",
        "import os\n",
        "import matplotlib.pyplot as plt\n",
        "import matplotlib.image as mpimg\n",
        "import matplotlib.patches as patches\n",
        "import pylab as pl\n",
        "from PIL import Image"
      ],
      "metadata": {
        "id": "4If7NsHzyCOk"
      },
      "execution_count": null,
      "outputs": []
    },
    {
      "cell_type": "code",
      "source": [
        "!git clone https://github.com/ultralytics/yolov5"
      ],
      "metadata": {
        "id": "Uv6h-8GvyCRT"
      },
      "execution_count": null,
      "outputs": []
    },
    {
      "cell_type": "code",
      "source": [
        "%cd yolov5"
      ],
      "metadata": {
        "id": "aMbreSeOIJwX"
      },
      "execution_count": null,
      "outputs": []
    },
    {
      "cell_type": "code",
      "source": [
        "!pip install -r requirements.txt"
      ],
      "metadata": {
        "id": "q4OiffK_yMVc"
      },
      "execution_count": null,
      "outputs": []
    },
    {
      "cell_type": "code",
      "source": [
        "!git clone https://github.com/ultralytics/yolov5  # clone\n",
        "%cd yolov5\n",
        "%pip install -qr requirements.txt  # install\n",
        "\n",
        "import torch\n",
        "from IPython.display import clear_output\n",
        "\n",
        "clear_output()\n",
        "print('Setup complete. Using torch %s %s' % (torch.__version__, torch.cuda.get_device_properties(0) if torch.cuda.is_available() else 'CPU'))"
      ],
      "metadata": {
        "id": "e8_oXyfoyMYj"
      },
      "execution_count": null,
      "outputs": []
    },
    {
      "cell_type": "code",
      "source": [
        "!python train.py --img 415 --batch 16 --epochs 20 --data /content/yolov5/data/facemask.yaml --weights yolov5s.pt --cache\n"
      ],
      "metadata": {
        "id": "A0WIl_QYyUMk"
      },
      "execution_count": null,
      "outputs": []
    },
    {
      "cell_type": "code",
      "metadata": {
        "id": "1NcFxRcFdJ_O"
      },
      "source": [
        "%load_ext tensorboard\n",
        "%tensorboard --logdir runs"
      ],
      "execution_count": null,
      "outputs": []
    },
    {
      "cell_type": "code",
      "source": [
        "from IPython.display import Image #this is to render predictions\n",
        "Image(filename='/content/yolov5/yolov5/runs/train/exp2/train_batch1.jpg', width=1000)"
      ],
      "metadata": {
        "id": "wbtHyIQOZ31s"
      },
      "execution_count": null,
      "outputs": []
    }
  ]
}